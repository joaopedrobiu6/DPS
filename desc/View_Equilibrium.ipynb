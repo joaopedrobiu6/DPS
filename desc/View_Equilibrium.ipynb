{
 "cells": [
  {
   "cell_type": "code",
   "execution_count": null,
   "metadata": {},
   "outputs": [],
   "source": [
    "from desc.grid import Grid\n",
    "from desc.plotting import plot_surfaces, plot_3d\n",
    "from desc.geometry import FourierRZToroidalSurface\n",
    "from desc.equilibrium import Equilibrium\n",
    "from desc.continuation import solve_continuation_automatic\n",
    "from desc.objectives import ParticleTracer\n",
    "import desc.io\n",
    "from desc.backend import jnp\n",
    "import scipy.constants"
   ]
  },
  {
   "cell_type": "code",
   "execution_count": null,
   "metadata": {},
   "outputs": [],
   "source": [
    "eq = desc.io.load(\"input.LandremanPaul2021_QA_scaled_output.h5\")[-1]\n",
    "eq._iota = eq.get_profile(\"iota\").to_powerseries(order=eq.L, sym=True)\n",
    "eq._current = None\n",
    "# eq.solve()"
   ]
  },
  {
   "cell_type": "code",
   "execution_count": null,
   "metadata": {},
   "outputs": [],
   "source": [
    "plot_3d(eq, \"B\")"
   ]
  },
  {
   "cell_type": "code",
   "execution_count": null,
   "metadata": {},
   "outputs": [],
   "source": [
    "# Energy and Mass info\n",
    "Energy_eV = 1 #3.52e6\n",
    "Proton_Mass = scipy.constants.proton_mass\n",
    "Proton_Charge = scipy.constants.elementary_charge\n",
    "\n",
    "Energy_SI = Energy_eV*Proton_Charge\n",
    "\n",
    "# Particle Info\n",
    "Mass = 4*Proton_Mass\n",
    "Charge = 2*Proton_Charge\n",
    "\n",
    "# Initial State\n",
    "psi_i = 0.2\n",
    "zeta_i = 0\n",
    "theta_i = 0\n",
    "vpar_i = 0.9*jnp.sqrt(2*Energy_SI/Mass)\n",
    "ini_cond = [float(psi_i), theta_i, zeta_i, float(vpar_i)]\n",
    "\n",
    "# Time\n",
    "tmin = 0\n",
    "tmax = 1e-2\n",
    "nt = 1000\n",
    "time = jnp.linspace(tmin, tmax, nt)\n",
    "\n",
    "initial_conditions = ini_cond\n",
    "Mass_Charge_Ratio = Mass/Charge"
   ]
  },
  {
   "cell_type": "code",
   "execution_count": null,
   "metadata": {},
   "outputs": [],
   "source": [
    "grid = Grid(jnp.array([jnp.sqrt(psi_i), theta_i, zeta_i]).T, jitable=True, sort=False)\n",
    "data = eq.compute([\"|B|\", \"R\"], grid=grid)\n",
    "\n",
    "mu = Energy_SI/(Mass*data[\"|B|\"]) - (vpar_i**2)/(2*data[\"|B|\"])\n",
    "\n",
    "ini_param = [float(mu), Mass_Charge_Ratio]\n",
    "\n",
    "objective = ParticleTracer(eq=eq, output_time=time, initial_conditions=ini_cond, initial_parameters=ini_param, compute_option=\"tracer\", tolerance=1e-8)\n"
   ]
  },
  {
   "cell_type": "code",
   "execution_count": null,
   "metadata": {},
   "outputs": [],
   "source": [
    "print(f\"Initial Velocity (parallel component): {vpar_i}\")\n",
    "print(f\"Radius: {data['R']}\")\n",
    "print(f\"Magnetic Field (abs): {data['|B|']}\")\n",
    "print(f\"μ: {mu}\")\n",
    "print(f\"Gyroradius: {Mass/Charge*jnp.sqrt(2*mu/data['|B|'])}\") #GyroRadius\n",
    "print(f\"Gyrofrequency: {Charge*data['|B|']/Mass}\") #Gyrofrequency 0.03972392"
   ]
  },
  {
   "cell_type": "code",
   "execution_count": null,
   "metadata": {},
   "outputs": [],
   "source": [
    "plot_3d(eq, \"B\")"
   ]
  },
  {
   "cell_type": "code",
   "execution_count": null,
   "metadata": {},
   "outputs": [],
   "source": []
  }
 ],
 "metadata": {
  "kernelspec": {
   "display_name": "desc-env",
   "language": "python",
   "name": "python3"
  },
  "language_info": {
   "codemirror_mode": {
    "name": "ipython",
    "version": 3
   },
   "file_extension": ".py",
   "mimetype": "text/x-python",
   "name": "python",
   "nbconvert_exporter": "python",
   "pygments_lexer": "ipython3",
   "version": "3.11.5"
  }
 },
 "nbformat": 4,
 "nbformat_minor": 2
}
