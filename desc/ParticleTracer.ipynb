{
 "cells": [
  {
   "cell_type": "code",
   "execution_count": 11,
   "metadata": {},
   "outputs": [],
   "source": [
    "from desc.objectives import ParticleTracer\n",
    "from desc.grid import Grid\n",
    "import desc.io\n",
    "from desc.backend import jnp\n",
    "import scipy.constants\n",
    "import matplotlib.pyplot as plt\n",
    "import numpy as np\n",
    "from time import time as timet"
   ]
  },
  {
   "cell_type": "code",
   "execution_count": null,
   "metadata": {},
   "outputs": [],
   "source": [
    "initial_time = timet()\n",
    "# Load Equilibrium\n",
    "filename = \"ellipse_higherPsi.h5\"\n",
    "save_text_name = \"solution\" + filename\n",
    "\n",
    "eq = desc.io.load(filename)[-1]\n",
    "eq._iota = eq.get_profile(\"iota\").to_powerseries(order=eq.L, sym=True)\n",
    "eq._current = None\n",
    "# eq.solve()"
   ]
  },
  {
   "cell_type": "code",
   "execution_count": null,
   "metadata": {},
   "outputs": [],
   "source": [
    "# Output the resulting solution to a .txt file, in 4 columns (psi, theta, zeta, vpar)\n",
    "def output_to_file(solution, name):\n",
    "    list1 = solution[:, 0]\n",
    "    list2 = solution[:, 1]\n",
    "    list3 = solution[:, 2]\n",
    "    list4 = solution[:, 3]\n",
    "\n",
    "    combined_lists = zip(list1, list2, list3, list4)\n",
    "    \n",
    "    file_name = f'{name}.txt'\n",
    "\n",
    "    with open(file_name, 'w') as file:        \n",
    "        for row in combined_lists:\n",
    "            row_str = '\\t'.join(map(str, row))\n",
    "            file.write(row_str + '\\n')\n",
    "\n",
    "def Trajectory_Plot(solution):\n",
    "    fig, ax = plt.subplots()\n",
    "    ax.plot(np.sqrt(solution[:, 0]) * np.cos(solution[:, 1]), np.sqrt(solution[:, 0]) * np.sin(solution[:, 1]))\n",
    "    ax.set_aspect(\"equal\", adjustable='box')\n",
    "    plt.xlabel(r'$\\sqrt{\\psi}cos(\\theta)$')\n",
    "    plt.ylabel(r'$\\sqrt{\\psi}sin(\\theta)$')\n",
    "    fig.savefig(\"Trajectory_Plot.png\", bbox_inches=\"tight\", dpi=300)\n",
    "\n",
    "def Quantity_Plot(time, solution):\n",
    "    fig, axs = plt.subplots(2, 2)\n",
    "    axs[0, 1].plot(time, solution[:, 0], 'tab:orange')\n",
    "    axs[0, 1].set_title(r'$\\psi$ (t)')\n",
    "    axs[1, 0].plot(time, solution[:, 1], 'tab:green')\n",
    "    axs[1, 0].set_title(r'$\\theta$ (t)')\n",
    "    axs[1, 1].plot(time, solution[:, 2], 'tab:red')\n",
    "    axs[1, 1].set_title(r'$\\zeta$ (t)')\n",
    "    axs[0, 0].plot(time, solution[:, 3], 'tab:blue')\n",
    "    axs[0, 0].set_title(r\"$v_{\\parallel}$ (t)\")\n",
    "    fig = plt.gcf()\n",
    "    fig.set_size_inches(10.5, 10.5)\n",
    "    fig.savefig(\"Quantity_Plot.png\", bbox_inches=\"tight\", dpi=300)\n",
    "\n",
    "def Energy_Plot(time, solution, Energy_SI):\n",
    "    plt.figure()\n",
    "    grid = Grid(np.vstack((np.sqrt(solution[:, 0]), solution[:, 1], solution[:, 2])).T,sort=False)\n",
    "    B_field = eq.compute(\"|B|\", grid=grid)\n",
    "    Energy = 0.5*(solution[:, 3]**2 + 2*B_field[\"|B|\"]*mu)*Mass\n",
    "\n",
    "    plt.plot(time, (Energy-Energy_SI)/Energy_SI)\n",
    "    plt.title(r\"(E - E$_0$)/E$_0$\")\n",
    "    plt.ticklabel_format(axis=\"y\", style=\"sci\", scilimits=(0,0))\n",
    "    plt.savefig(\"Energy_Plot.png\", bbox_inches=\"tight\", dpi=300)"
   ]
  },
  {
   "cell_type": "code",
   "execution_count": null,
   "metadata": {},
   "outputs": [],
   "source": [
    "# Energy and Mass info\n",
    "Energy_eV = 3.52e6\n",
    "Proton_Mass = scipy.constants.proton_mass\n",
    "Proton_Charge = scipy.constants.elementary_charge\n",
    "Energy_SI = Energy_eV*Proton_Charge\n",
    "\n",
    "# Particle Info\n",
    "Mass = 4*Proton_Mass\n",
    "Charge = 2*Proton_Charge\n",
    "\n",
    "# Initial State\n",
    "psi_i = 0.2\n",
    "zeta_i = 0\n",
    "theta_i = 0\n",
    "vpar_i = 0.7*jnp.sqrt(2*Energy_SI/Mass)\n",
    "ini_cond = [float(psi_i), theta_i, zeta_i, float(vpar_i)]\n",
    "\n",
    "# Time\n",
    "tmin = 0\n",
    "tmax = 1e-4\n",
    "nt = 1000\n",
    "time = jnp.linspace(tmin, tmax, nt)\n",
    "\n",
    "initial_conditions = ini_cond\n",
    "Mass_Charge_Ratio = Mass/Charge\n",
    "\n",
    "grid = Grid(jnp.array([jnp.sqrt(psi_i), theta_i, zeta_i]).T, jitable=True, sort=False)\n",
    "data = eq.compute([\"|B|\", \"R\"], grid=grid)\n",
    "\n",
    "mu = Energy_SI/(Mass*data[\"|B|\"]) - (vpar_i**2)/(2*data[\"|B|\"])\n",
    "\n",
    "ini_param = [float(mu), Mass_Charge_Ratio]"
   ]
  },
  {
   "cell_type": "code",
   "execution_count": null,
   "metadata": {},
   "outputs": [],
   "source": [
    "objective = ParticleTracer(eq=eq, output_time=time, initial_conditions=ini_cond, initial_parameters=ini_param, compute_option=\"tracer\", tolerance=1.4e-8)"
   ]
  },
  {
   "cell_type": "code",
   "execution_count": null,
   "metadata": {},
   "outputs": [],
   "source": [
    "print(f\"Initial Velocity (parallel component): {vpar_i}\")\n",
    "print(f\"Radius: {data['R']}\")\n",
    "print(f\"Magnetic Field (abs): {data['|B|']}\")\n",
    "print(f\"μ: {mu}\")\n",
    "print(f\"Gyroradius: {Mass/Charge*jnp.sqrt(2*mu/data['|B|'])}\") #GyroRadius\n",
    "print(f\"Gyrofrequency: {Charge*data['|B|']/Mass}\") #Gyrofrequency"
   ]
  },
  {
   "cell_type": "code",
   "execution_count": null,
   "metadata": {},
   "outputs": [],
   "source": [
    "intermediate_time = timet()\n",
    "print(f\"Time from beginning until here: {intermediate_time - initial_time}s\")\n",
    "objective.build()\n",
    "solution = objective.compute(*objective.xs(eq))\n",
    "intermediate_time_2 = timet()\n",
    "print(f\"Time to build and compute: {intermediate_time_2 - intermediate_time}s\")"
   ]
  },
  {
   "cell_type": "code",
   "execution_count": null,
   "metadata": {},
   "outputs": [],
   "source": [
    "print(\"*************** SOLUTION .compute() ***************\")\n",
    "print(solution)\n",
    "print(\"***************************************************\")"
   ]
  },
  {
   "cell_type": "code",
   "execution_count": null,
   "metadata": {},
   "outputs": [],
   "source": [
    "output_to_file(solution=solution, name=save_text_name)"
   ]
  },
  {
   "cell_type": "code",
   "execution_count": null,
   "metadata": {},
   "outputs": [],
   "source": [
    "Trajectory_Plot(solution)\n",
    "Quantity_Plot(time, solution)\n",
    "Energy_Plot(time, solution, Energy_SI)"
   ]
  }
 ],
 "metadata": {
  "kernelspec": {
   "display_name": "Python 3",
   "language": "python",
   "name": "python3"
  },
  "language_info": {
   "codemirror_mode": {
    "name": "ipython",
    "version": 3
   },
   "file_extension": ".py",
   "mimetype": "text/x-python",
   "name": "python",
   "nbconvert_exporter": "python",
   "pygments_lexer": "ipython3",
   "version": "3.11.5"
  },
  "orig_nbformat": 4
 },
 "nbformat": 4,
 "nbformat_minor": 2
}
